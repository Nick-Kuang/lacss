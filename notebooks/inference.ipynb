{
  "nbformat": 4,
  "nbformat_minor": 0,
  "metadata": {
    "colab": {
      "provenance": [],
      "toc_visible": true
    },
    "kernelspec": {
      "name": "python3",
      "display_name": "Python 3"
    },
    "language_info": {
      "name": "python"
    },
    "accelerator": "GPU",
    "gpuClass": "standard"
  },
  "cells": [
    {
      "cell_type": "markdown",
      "source": [
        "# LACSS Inference Demo\n",
        "\n",
        "This is a small notebook demonstrating the workflow of applying an LACSS model to make segmentation prediction.\n",
        "\n",
        "\n"
      ],
      "metadata": {
        "id": "xPeMUSq-jrmY"
      }
    },
    {
      "cell_type": "markdown",
      "source": [
        "## Setting up the environment"
      ],
      "metadata": {
        "id": "VAsPHCLIkPzX"
      }
    },
    {
      "cell_type": "code",
      "execution_count": null,
      "metadata": {
        "id": "uLbgbwxti6bO"
      },
      "outputs": [],
      "source": [
        "!pip install lacss\n",
        "\n",
        "import imageio\n",
        "import matplotlib.pyplot as plt\n",
        "import numpy as np\n",
        "from skimage.color import label2rgb\n",
        "\n",
        "from lacss.deploy import Predictor\n",
        "from lacss.utils import show_images"
      ]
    },
    {
      "cell_type": "markdown",
      "source": [
        "## Load a pre-trained model\n",
        "\n",
        "Here we load a model pre-trained on the [tissuenet](https://datasets.deepcell.org/) dataset"
      ],
      "metadata": {
        "id": "CB2DCgOplObO"
      }
    },
    {
      "cell_type": "code",
      "source": [
        "!wget -c https://data.mendeley.com/public-files/datasets/sj3vrvm6w3/files/8b5f94db-da9a-46ce-9e09-81419dcc1e69/file_downloaded -O cnsp4_tn.pkl\n",
        "\n",
        "predictor = Predictor(\"cnsp4_tn.pkl\")"
      ],
      "metadata": {
        "id": "xg0ja_TkkpOl"
      },
      "execution_count": null,
      "outputs": []
    },
    {
      "cell_type": "markdown",
      "source": [
        "## Also download some image data\n",
        "\n",
        "We will download some microscopy images from the [Cell Image Library](http://www.cellimagelibrary.org/home) collection."
      ],
      "metadata": {
        "id": "mPYmZ-O9mn-x"
      }
    },
    {
      "cell_type": "code",
      "source": [
        "!wget -c https://data.mendeley.com/public-files/datasets/894mmsd9nj/files/568e524f-9a95-45a6-9f80-3619969c2a37/file_downloaded -O images.zip\n",
        "\n",
        "import zipfile\n",
        "\n",
        "data_path = 'image_data'\n",
        "with zipfile.ZipFile('images.zip', \"r\") as f:\n",
        "    f.extractall(data_path)"
      ],
      "metadata": {
        "id": "0Hsex1ShmR_T"
      },
      "execution_count": null,
      "outputs": []
    },
    {
      "cell_type": "markdown",
      "source": [
        "## Make a prdiction"
      ],
      "metadata": {
        "id": "7g1mb9D9nZEp"
      }
    },
    {
      "cell_type": "code",
      "source": [
        "image = imageio.imread(\"image_data/test/000_img.png\")\n",
        "gt = imageio.imread(\"image_data/test/000_masks.png\")\n",
        "\n",
        "pred = predictor.predict_label(image.astype(\"float32\"))\n",
        "\n",
        "# the default model outputs are JAX arrays. It is more convenient \n",
        "# to use a numpy array for downstream analysis / visulization\n",
        "pred = np.asarray(pred)\n",
        "\n",
        "show_images([\n",
        "    image,\n",
        "    label2rgb(pred, bg_label=0),\n",
        "    label2rgb(gt, bg_label=0),\n",
        "])\n",
        "\n",
        "titles = ['Input', \"Prediction\", \"Ground Truth\"]\n",
        "[ax.set_title(title) for ax, title in zip(plt.gcf().get_axes(), titles)]\n"
      ],
      "metadata": {
        "id": "3Jt1ThPcnbAo"
      },
      "execution_count": null,
      "outputs": []
    },
    {
      "cell_type": "markdown",
      "source": [
        "You may notice that the last part of the code is running quite slowly. This is because LACSS is model based on [JAX](https://jax.readthedocs.io/en/latest/) framework, which performs **just-in-time compilation** of the model the first time we run it. This will take some time, but only happens on the first run.\n",
        "\n",
        "In addition, the inferencen result is BAD! Why? Well, the model was trained on a tisuenet dataset, but the image we are analyzing is from an unrelated dataset, which has different channel organization and different pixel value normalization. We can improve the results by rearrange the data to match the orginal training data structure:"
      ],
      "metadata": {
        "id": "ZKeJy9rcvsGm"
      }
    },
    {
      "cell_type": "code",
      "source": [
        "image_rearranged = image[..., (1,0,2)] / 255.0\n",
        "\n",
        "pred = predictor.predict_label(image_rearranged)\n",
        "pred = np.asarray(pred) \n",
        "\n",
        "show_images([\n",
        "    image,\n",
        "    label2rgb(pred, bg_label=0),\n",
        "    label2rgb(gt, bg_label=0),\n",
        "])\n",
        "\n",
        "titles = ['Input', \"Prediction\", \"Ground Truth\"]\n",
        "[ax.set_title(title) for ax, title in zip(plt.gcf().get_axes(), titles)]"
      ],
      "metadata": {
        "id": "G8fqDK1Onl8G"
      },
      "execution_count": null,
      "outputs": []
    },
    {
      "cell_type": "markdown",
      "source": [
        "Ok, much better.\n",
        "\n",
        "It is still not good enough though. The remaining inaccuracies reflect the **domain shift** between the training data and the inference data. we can further improve the results by re-training on the new dataset. Check the [training demos](https://www.github.com/jiyuuchc/lacss_jax) to see how to do that."
      ],
      "metadata": {
        "id": "oZagJ4GAxz8N"
      }
    }
  ]
}